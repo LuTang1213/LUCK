{
 "cells": [
  {
   "cell_type": "code",
   "execution_count": null,
   "metadata": {},
   "outputs": [],
   "source": [
    "import pandas as pd\n",
    "df = pd.read_csv('311_Service_Requests_2020.csv')"
   ]
  },
  {
   "cell_type": "code",
   "execution_count": null,
   "metadata": {},
   "outputs": [],
   "source": [
    "zip_10025 = df[df['Incident Zip']==10025]"
   ]
  },
  {
   "cell_type": "code",
   "execution_count": null,
   "metadata": {},
   "outputs": [],
   "source": [
    "zip_10025_IP = zip_10025[zip_10025['Complaint Type']=='Illegal Parking']\n",
    "df_IP = df[df['Complaint Type']=='Illegal Parking']\n",
    "zip_10025_IP_fraction = len(zip_10025_IP)/len(zip_10025)\n",
    "zip_all_IP_fraction = len(df_IP)/len(df)"
   ]
  },
  {
   "cell_type": "code",
   "execution_count": null,
   "metadata": {},
   "outputs": [],
   "source": [
    "higher_parking_proportion = zip_10025_IP_fraction>zip_all_IP_fraction\n",
    "higher_parking_proportion"
   ]
  }
 ],
 "metadata": {
  "language_info": {
   "name": "python"
  },
  "orig_nbformat": 4
 },
 "nbformat": 4,
 "nbformat_minor": 2
}
